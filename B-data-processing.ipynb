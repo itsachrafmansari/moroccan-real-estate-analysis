{
 "cells": [
  {
   "metadata": {},
   "cell_type": "markdown",
   "source": "# Moroccan real estate market analysis\n",
   "id": "f17d093576f61186"
  },
  {
   "metadata": {
    "ExecuteTime": {
     "end_time": "2024-12-25T23:27:06.526152Z",
     "start_time": "2024-12-25T23:27:04.158816Z"
    }
   },
   "cell_type": "code",
   "source": [
    "import pandas as pd\n",
    "\n",
    "df = pd.read_csv(\"data/raw-fetched-data.csv\")"
   ],
   "id": "c8c74a84c357bafb",
   "outputs": [],
   "execution_count": 5
  },
  {
   "metadata": {},
   "cell_type": "markdown",
   "source": "## Cleaning data",
   "id": "768aea7afd748dcc"
  },
  {
   "metadata": {},
   "cell_type": "markdown",
   "source": "### Removing null values",
   "id": "e2186e85eefabea1"
  },
  {
   "metadata": {
    "ExecuteTime": {
     "end_time": "2024-12-25T23:27:06.765122Z",
     "start_time": "2024-12-25T23:27:06.543131Z"
    }
   },
   "cell_type": "code",
   "source": [
    "# Remove columns with more than 60% null values\n",
    "df.dropna(thresh=df.shape[0] * 0.6, axis=1, inplace=True)\n",
    "\n",
    "# Remove rows with at least one null value\n",
    "df.dropna(how='any', axis=0, inplace=True)"
   ],
   "id": "4d74ebf6d88d67b0",
   "outputs": [],
   "execution_count": 6
  },
  {
   "metadata": {
    "ExecuteTime": {
     "end_time": "2024-12-25T23:27:06.864340Z",
     "start_time": "2024-12-25T23:27:06.811717Z"
    }
   },
   "cell_type": "code",
   "source": [
    "# Ensure no null values are left\n",
    "assert df.isna().sum().sum() == 0"
   ],
   "id": "a9de2a54c693dbd5",
   "outputs": [],
   "execution_count": 7
  },
  {
   "metadata": {},
   "cell_type": "markdown",
   "source": "### Cleaning irregular values in ordinal columns",
   "id": "e2313a06a9e34e77"
  },
  {
   "metadata": {
    "ExecuteTime": {
     "end_time": "2024-12-25T23:27:06.944703Z",
     "start_time": "2024-12-25T23:27:06.916600Z"
    }
   },
   "cell_type": "code",
   "source": [
    "# Entries with more than 10 rooms are represented with 10+ in the ROOMS column\n",
    "# Replace these values with 11 and set TRUE to the EXTRA_ROOMS column\n",
    "entries_with_extra_rooms = df[\"rooms\"] == \"10+\"\n",
    "df.loc[entries_with_extra_rooms, \"rooms\"] = \"11\"\n",
    "\n",
    "df[\"EXTRA_ROOMS\"] = False\n",
    "df.loc[entries_with_extra_rooms, \"EXTRA_ROOMS\"] = True"
   ],
   "id": "84e7e7f8a8c76053",
   "outputs": [],
   "execution_count": 8
  },
  {
   "metadata": {
    "ExecuteTime": {
     "end_time": "2024-12-25T23:27:07.043414Z",
     "start_time": "2024-12-25T23:27:07.014465Z"
    }
   },
   "cell_type": "code",
   "source": [
    "# Entries with more than 7 bathrooms are represented with 7+ in the BATHROOMS column\n",
    "# Replace these values with 8 and set TRUE to the EXTRA_BATHROOMS column\n",
    "entries_with_extra_bathrooms = df[\"bathrooms\"] == \"7+\"\n",
    "df.loc[entries_with_extra_bathrooms, \"bathrooms\"] = \"8\"\n",
    "\n",
    "df[\"EXTRA_BATHROOMS\"] = False\n",
    "df.loc[entries_with_extra_bathrooms, \"EXTRA_BATHROOMS\"] = True"
   ],
   "id": "e51ba702b71c3351",
   "outputs": [],
   "execution_count": 9
  },
  {
   "metadata": {
    "ExecuteTime": {
     "end_time": "2024-12-25T23:27:07.129983Z",
     "start_time": "2024-12-25T23:27:07.104985Z"
    }
   },
   "cell_type": "code",
   "source": [
    "# Replace these values with 8 and set TRUE to the EXTRA_SPARE_ROOMS column\n",
    "entries_with_extra_spare_rooms = df[\"spare_rooms\"] == \"7+\"\n",
    "df.loc[entries_with_extra_spare_rooms, \"spare_rooms\"] = \"8\"\n",
    "\n",
    "df[\"EXTRA_SPARE_ROOMS\"] = False\n",
    "df.loc[entries_with_extra_spare_rooms, \"EXTRA_SPARE_ROOMS\"] = True"
   ],
   "id": "8e933c28009476ac",
   "outputs": [],
   "execution_count": 10
  },
  {
   "metadata": {
    "ExecuteTime": {
     "end_time": "2024-12-25T23:27:07.267988Z",
     "start_time": "2024-12-25T23:27:07.235663Z"
    }
   },
   "cell_type": "code",
   "source": [
    "# Replace these values with 8 and set TRUE to the EXTRA_FLOOR column\n",
    "entries_with_extra_floor = df[\"floor\"] == \"7+\"\n",
    "df.loc[entries_with_extra_floor, \"floor\"] = \"8\"\n",
    "\n",
    "entries_with_first_floor = df[\"floor\"] == \"Rez de chaussée\"\n",
    "df.loc[entries_with_first_floor, \"floor\"] = \"0\"\n",
    "\n",
    "df[\"EXTRA_FLOOR\"] = False\n",
    "df.loc[entries_with_extra_floor, \"EXTRA_FLOOR\"] = True"
   ],
   "id": "83726ed8f7166740",
   "outputs": [],
   "execution_count": 11
  },
  {
   "metadata": {
    "ExecuteTime": {
     "end_time": "2024-12-25T23:27:07.316729Z",
     "start_time": "2024-12-25T23:27:07.284726Z"
    }
   },
   "cell_type": "code",
   "source": [
    "# Ensure no values are left\n",
    "assert (df[\"rooms\"] == \"10+\").sum() == 0\n",
    "assert (df[\"bathrooms\"] == \"7+\").sum() == 0\n",
    "assert (df[\"spare_rooms\"] == \"7+\").sum() == 0\n",
    "assert (df[\"floor\"] == \"7+\").sum() == 0\n",
    "assert (df[\"floor\"] == \"Rez de chaussée\").sum() == 0"
   ],
   "id": "d70b72c1e3245d9a",
   "outputs": [],
   "execution_count": 12
  },
  {
   "metadata": {},
   "cell_type": "markdown",
   "source": "### Converting columns to correct types",
   "id": "a94be4dfb64d0de6"
  },
  {
   "metadata": {
    "ExecuteTime": {
     "end_time": "2024-12-25T23:27:07.583628Z",
     "start_time": "2024-12-25T23:27:07.388069Z"
    }
   },
   "cell_type": "code",
   "source": [
    "# Convert integer based columns\n",
    "integer_based_columns = [\n",
    "    'adId', 'listId', 'categoryId', 'parentCategoryId', 'locationCityId', 'locationAreaId', 'spare_rooms', 'floor',\n",
    "    'rooms', 'bathrooms'\n",
    "]\n",
    "df[integer_based_columns] = df[integer_based_columns].astype('int64')\n",
    "\n",
    "# Convert float based columns\n",
    "float_based_columns = ['price', 'habitable_size', 'size', 'latitude', 'longitude']\n",
    "df[float_based_columns] = df[float_based_columns].astype('float64')\n",
    "\n",
    "# Convert datetime based columns\n",
    "df['listTime'] = pd.to_datetime(df['listTime'])\n",
    "df['listTime'] = df['listTime'].dt.floor('min')  # Rounds seconds and nanoseconds to the nearest minute"
   ],
   "id": "631c422ddb7f1ba2",
   "outputs": [],
   "execution_count": 13
  },
  {
   "metadata": {},
   "cell_type": "markdown",
   "source": "### Removing outliers",
   "id": "6f99e430e0d81df"
  },
  {
   "metadata": {
    "ExecuteTime": {
     "end_time": "2024-12-25T23:27:07.722706Z",
     "start_time": "2024-12-25T23:27:07.654707Z"
    }
   },
   "cell_type": "code",
   "source": [
    "# Removing rows with outliers in the size, habitable size or price column\n",
    "df = df[\n",
    "    ((df['price'] > 0) & (df['size'] > 0) & (df['habitable_size'] > 0)) &  # ❗ Update the comment\n",
    "    (df['size'].quantile(0.05) < df['size']) & (df['size'] < df['size'].quantile(0.95)) &\n",
    "    (df['habitable_size'].quantile(0.05) < df['habitable_size']) & (df['habitable_size'] < df['habitable_size'].quantile(0.95)) &\n",
    "    (df['price'].quantile(0.05) < df['price']) & (df['price'] < df['price'].quantile(0.95))\n",
    "]"
   ],
   "id": "5696981ce8307ec3",
   "outputs": [],
   "execution_count": 14
  },
  {
   "metadata": {
    "ExecuteTime": {
     "end_time": "2024-12-25T23:27:09.221725Z",
     "start_time": "2024-12-25T23:27:07.780705Z"
    }
   },
   "cell_type": "code",
   "source": "df.to_csv(\"data/processed-data.csv\", index=False)",
   "id": "9d6d0f7de0871f0b",
   "outputs": [],
   "execution_count": 15
  }
 ],
 "metadata": {
  "kernelspec": {
   "display_name": "Python 3",
   "language": "python",
   "name": "python3"
  },
  "language_info": {
   "codemirror_mode": {
    "name": "ipython",
    "version": 2
   },
   "file_extension": ".py",
   "mimetype": "text/x-python",
   "name": "python",
   "nbconvert_exporter": "python",
   "pygments_lexer": "ipython2",
   "version": "2.7.6"
  }
 },
 "nbformat": 4,
 "nbformat_minor": 5
}
